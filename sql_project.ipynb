{
 "cells": [
  {
   "cell_type": "markdown",
   "id": "d39e3a52",
   "metadata": {},
   "source": [
    "# Проект: анализ базы данных сервиса для чтения книг "
   ]
  },
  {
   "cell_type": "markdown",
   "id": "99e94cb6",
   "metadata": {
    "slideshow": {
     "slide_type": "-"
    }
   },
   "source": [
    "## Оглавление:"
   ]
  },
  {
   "cell_type": "markdown",
   "id": "14ecc985",
   "metadata": {},
   "source": [
    "1. [Описание проекта](#describe)\n",
    "2. [Анализ данных](#research)\n",
    "3. [Задание 1](#task_1)\n",
    "4. [Задание 2](#task_2)\n",
    "5. [Задание 3](#task_3)\n",
    "6. [Задание 4](#task_4)\n",
    "7. [Задание 5](#task_5)\n",
    "8. [Выводы](#conclusion)"
   ]
  },
  {
   "cell_type": "markdown",
   "id": "bc5cb0a7",
   "metadata": {},
   "source": [
    "<a id=\"describe\"></a> \n",
    "## Описание проекта"
   ]
  },
  {
   "cell_type": "markdown",
   "id": "10210c14",
   "metadata": {},
   "source": [
    "**Цель исследования:** \n",
    "необходимо проанализировать базу данных книг, чтобы сформулировать ценностное предложение для нового сервиса чтения книг. \n",
    "\n",
    "\n",
    " **Задача проекта:**\n",
    "* определить количество книг, вышедших после 1 января 2000 года;\n",
    "* изучить количество обзоров и среднюю оценку книг;\n",
    "* определить количество книг, у которых более 50 страниц;\n",
    "* определить автора с самой высокой средней оценкой книг;\n",
    "* определить среднее количество обзоров от пользователей, которые поставили больше 50 оценок.\n",
    "\n",
    "**Дата проведения исследования:** 21-22.03.2023"
   ]
  },
  {
   "cell_type": "markdown",
   "id": "de02c714",
   "metadata": {},
   "source": [
    "#### Структура данных: \n",
    "\n",
    "\n",
    "**Таблица books**\n",
    "\n",
    "\n",
    "* book_id — идентификатор книги;\n",
    "* author_id — идентификатор автора;\n",
    "* title — название книги;\n",
    "* num_pages — количество страниц;\n",
    "* publication_date — дата публикации книги;\n",
    "* publisher_id — идентификатор издателя.\n",
    "\n",
    "\n",
    "**Таблица authors**\n",
    "* author_id — идентификатор автора;\n",
    "* author — имя автора.\n",
    "\n",
    "\n",
    "**Таблица publishers**\n",
    "* publisher_id — идентификатор издательства;\n",
    "* publisher — название издательства;\n",
    "\n",
    "\n",
    "**Таблица ratings**\n",
    "* rating_id — идентификатор оценки;\n",
    "* book_id — идентификатор книги;\n",
    "* username — имя пользователя, оставившего оценку;\n",
    "* rating — оценка книги.\n",
    "\n",
    "\n",
    "**Таблица reviews**\n",
    "* review_id — идентификатор обзора;\n",
    "* book_id — идентификатор книги;\n",
    "* username — имя автора обзора;\n",
    "* text — текст обзора."
   ]
  },
  {
   "cell_type": "markdown",
   "id": "8508a6ed",
   "metadata": {},
   "source": [
    "#### Схема данных: "
   ]
  },
  {
   "cell_type": "markdown",
   "id": "d5312d1e",
   "metadata": {},
   "source": [
    "![Схема данных](https://pictures.s3.yandex.net/resources/scheme_1589269096.png)"
   ]
  },
  {
   "cell_type": "markdown",
   "id": "42e1130f",
   "metadata": {},
   "source": [
    "<a id=\"research\"></a>\n",
    "## Анализ данных"
   ]
  },
  {
   "cell_type": "code",
   "execution_count": 1,
   "id": "dc4ed938",
   "metadata": {},
   "outputs": [],
   "source": [
    "# импортируем библиотеки\n",
    "import pandas as pd\n",
    "from sqlalchemy import create_engine\n",
    "# устанавливаем параметры\n",
    "db_config = {'user': 'praktikum_student', # имя пользователя\n",
    "'pwd': 'Sdf4$2;d-d30pp', # пароль\n",
    "'host': 'rc1b-wcoijxj3yxfsf3fs.mdb.yandexcloud.net',\n",
    "'port': 6432, # порт подключения\n",
    "'db': 'data-analyst-final-project-db'} # название базы данных\n",
    "connection_string = 'postgresql://{}:{}@{}:{}/{}'.format(db_config['user'],\n",
    " db_config['pwd'],\n",
    " db_config['host'],\n",
    " db_config['port'],\n",
    " db_config['db'])\n",
    "# сохраняем коннектор\n",
    "engine = create_engine(connection_string, connect_args={'sslmode':'require'}) "
   ]
  },
  {
   "cell_type": "code",
   "execution_count": 2,
   "id": "4703b641",
   "metadata": {},
   "outputs": [],
   "source": [
    "# напишем функцию для вывода \n",
    "def sql_translation(query):\n",
    "    return pd.io.sql.read_sql(query, con = engine)"
   ]
  },
  {
   "cell_type": "code",
   "execution_count": 3,
   "id": "b1fb08f4",
   "metadata": {},
   "outputs": [
    {
     "data": {
      "text/html": [
       "<div>\n",
       "<style scoped>\n",
       "    .dataframe tbody tr th:only-of-type {\n",
       "        vertical-align: middle;\n",
       "    }\n",
       "\n",
       "    .dataframe tbody tr th {\n",
       "        vertical-align: top;\n",
       "    }\n",
       "\n",
       "    .dataframe thead th {\n",
       "        text-align: right;\n",
       "    }\n",
       "</style>\n",
       "<table border=\"1\" class=\"dataframe\">\n",
       "  <thead>\n",
       "    <tr style=\"text-align: right;\">\n",
       "      <th></th>\n",
       "      <th>book_id</th>\n",
       "      <th>author_id</th>\n",
       "      <th>title</th>\n",
       "      <th>num_pages</th>\n",
       "      <th>publication_date</th>\n",
       "      <th>publisher_id</th>\n",
       "    </tr>\n",
       "  </thead>\n",
       "  <tbody>\n",
       "    <tr>\n",
       "      <th>0</th>\n",
       "      <td>1</td>\n",
       "      <td>546</td>\n",
       "      <td>'Salem's Lot</td>\n",
       "      <td>594</td>\n",
       "      <td>2005-11-01</td>\n",
       "      <td>93</td>\n",
       "    </tr>\n",
       "    <tr>\n",
       "      <th>1</th>\n",
       "      <td>2</td>\n",
       "      <td>465</td>\n",
       "      <td>1 000 Places to See Before You Die</td>\n",
       "      <td>992</td>\n",
       "      <td>2003-05-22</td>\n",
       "      <td>336</td>\n",
       "    </tr>\n",
       "    <tr>\n",
       "      <th>2</th>\n",
       "      <td>3</td>\n",
       "      <td>407</td>\n",
       "      <td>13 Little Blue Envelopes (Little Blue Envelope...</td>\n",
       "      <td>322</td>\n",
       "      <td>2010-12-21</td>\n",
       "      <td>135</td>\n",
       "    </tr>\n",
       "    <tr>\n",
       "      <th>3</th>\n",
       "      <td>4</td>\n",
       "      <td>82</td>\n",
       "      <td>1491: New Revelations of the Americas Before C...</td>\n",
       "      <td>541</td>\n",
       "      <td>2006-10-10</td>\n",
       "      <td>309</td>\n",
       "    </tr>\n",
       "    <tr>\n",
       "      <th>4</th>\n",
       "      <td>5</td>\n",
       "      <td>125</td>\n",
       "      <td>1776</td>\n",
       "      <td>386</td>\n",
       "      <td>2006-07-04</td>\n",
       "      <td>268</td>\n",
       "    </tr>\n",
       "  </tbody>\n",
       "</table>\n",
       "</div>"
      ],
      "text/plain": [
       "   book_id  author_id                                              title  \\\n",
       "0        1        546                                       'Salem's Lot   \n",
       "1        2        465                 1 000 Places to See Before You Die   \n",
       "2        3        407  13 Little Blue Envelopes (Little Blue Envelope...   \n",
       "3        4         82  1491: New Revelations of the Americas Before C...   \n",
       "4        5        125                                               1776   \n",
       "\n",
       "   num_pages publication_date  publisher_id  \n",
       "0        594       2005-11-01            93  \n",
       "1        992       2003-05-22           336  \n",
       "2        322       2010-12-21           135  \n",
       "3        541       2006-10-10           309  \n",
       "4        386       2006-07-04           268  "
      ]
     },
     "execution_count": 3,
     "metadata": {},
     "output_type": "execute_result"
    }
   ],
   "source": [
    "books = '''\n",
    "SELECT *  FROM books\n",
    "LIMIT(5)\n",
    "'''\n",
    "books = sql_translation(books)\n",
    "books.head()"
   ]
  },
  {
   "cell_type": "code",
   "execution_count": 4,
   "id": "84da1928",
   "metadata": {},
   "outputs": [
    {
     "data": {
      "text/html": [
       "<div>\n",
       "<style scoped>\n",
       "    .dataframe tbody tr th:only-of-type {\n",
       "        vertical-align: middle;\n",
       "    }\n",
       "\n",
       "    .dataframe tbody tr th {\n",
       "        vertical-align: top;\n",
       "    }\n",
       "\n",
       "    .dataframe thead th {\n",
       "        text-align: right;\n",
       "    }\n",
       "</style>\n",
       "<table border=\"1\" class=\"dataframe\">\n",
       "  <thead>\n",
       "    <tr style=\"text-align: right;\">\n",
       "      <th></th>\n",
       "      <th>count</th>\n",
       "    </tr>\n",
       "  </thead>\n",
       "  <tbody>\n",
       "    <tr>\n",
       "      <th>0</th>\n",
       "      <td>1000</td>\n",
       "    </tr>\n",
       "  </tbody>\n",
       "</table>\n",
       "</div>"
      ],
      "text/plain": [
       "   count\n",
       "0   1000"
      ]
     },
     "execution_count": 4,
     "metadata": {},
     "output_type": "execute_result"
    }
   ],
   "source": [
    "book_count = '''\n",
    "--Выведем количество книг\n",
    "SELECT COUNT(DISTINCT book_id) \n",
    "FROM books\n",
    "'''\n",
    "book_count = sql_translation(book_count)\n",
    "book_count"
   ]
  },
  {
   "cell_type": "code",
   "execution_count": 5,
   "id": "ba5fa576",
   "metadata": {},
   "outputs": [
    {
     "data": {
      "text/html": [
       "<div>\n",
       "<style scoped>\n",
       "    .dataframe tbody tr th:only-of-type {\n",
       "        vertical-align: middle;\n",
       "    }\n",
       "\n",
       "    .dataframe tbody tr th {\n",
       "        vertical-align: top;\n",
       "    }\n",
       "\n",
       "    .dataframe thead th {\n",
       "        text-align: right;\n",
       "    }\n",
       "</style>\n",
       "<table border=\"1\" class=\"dataframe\">\n",
       "  <thead>\n",
       "    <tr style=\"text-align: right;\">\n",
       "      <th></th>\n",
       "      <th>author_id</th>\n",
       "      <th>author</th>\n",
       "    </tr>\n",
       "  </thead>\n",
       "  <tbody>\n",
       "    <tr>\n",
       "      <th>0</th>\n",
       "      <td>1</td>\n",
       "      <td>A.S. Byatt</td>\n",
       "    </tr>\n",
       "    <tr>\n",
       "      <th>1</th>\n",
       "      <td>2</td>\n",
       "      <td>Aesop/Laura Harris/Laura Gibbs</td>\n",
       "    </tr>\n",
       "    <tr>\n",
       "      <th>2</th>\n",
       "      <td>3</td>\n",
       "      <td>Agatha Christie</td>\n",
       "    </tr>\n",
       "    <tr>\n",
       "      <th>3</th>\n",
       "      <td>4</td>\n",
       "      <td>Alan Brennert</td>\n",
       "    </tr>\n",
       "    <tr>\n",
       "      <th>4</th>\n",
       "      <td>5</td>\n",
       "      <td>Alan Moore/David   Lloyd</td>\n",
       "    </tr>\n",
       "  </tbody>\n",
       "</table>\n",
       "</div>"
      ],
      "text/plain": [
       "   author_id                          author\n",
       "0          1                      A.S. Byatt\n",
       "1          2  Aesop/Laura Harris/Laura Gibbs\n",
       "2          3                 Agatha Christie\n",
       "3          4                   Alan Brennert\n",
       "4          5        Alan Moore/David   Lloyd"
      ]
     },
     "execution_count": 5,
     "metadata": {},
     "output_type": "execute_result"
    }
   ],
   "source": [
    "# выведем строки таблицы authors\n",
    "authors = '''\n",
    "SELECT *  FROM authors\n",
    "LIMIT(5)\n",
    "'''\n",
    "authors = sql_translation(authors)\n",
    "authors"
   ]
  },
  {
   "cell_type": "code",
   "execution_count": 6,
   "id": "3a531266",
   "metadata": {},
   "outputs": [
    {
     "data": {
      "text/html": [
       "<div>\n",
       "<style scoped>\n",
       "    .dataframe tbody tr th:only-of-type {\n",
       "        vertical-align: middle;\n",
       "    }\n",
       "\n",
       "    .dataframe tbody tr th {\n",
       "        vertical-align: top;\n",
       "    }\n",
       "\n",
       "    .dataframe thead th {\n",
       "        text-align: right;\n",
       "    }\n",
       "</style>\n",
       "<table border=\"1\" class=\"dataframe\">\n",
       "  <thead>\n",
       "    <tr style=\"text-align: right;\">\n",
       "      <th></th>\n",
       "      <th>count</th>\n",
       "    </tr>\n",
       "  </thead>\n",
       "  <tbody>\n",
       "    <tr>\n",
       "      <th>0</th>\n",
       "      <td>636</td>\n",
       "    </tr>\n",
       "  </tbody>\n",
       "</table>\n",
       "</div>"
      ],
      "text/plain": [
       "   count\n",
       "0    636"
      ]
     },
     "execution_count": 6,
     "metadata": {},
     "output_type": "execute_result"
    }
   ],
   "source": [
    "authors_count = '''\n",
    "--Выведем количество авторов\n",
    "SELECT COUNT(DISTINCT author_id) \n",
    "FROM authors\n",
    "'''\n",
    "authors_count = sql_translation(authors_count)\n",
    "authors_count"
   ]
  },
  {
   "cell_type": "code",
   "execution_count": 7,
   "id": "0fe8927c",
   "metadata": {},
   "outputs": [
    {
     "data": {
      "text/html": [
       "<div>\n",
       "<style scoped>\n",
       "    .dataframe tbody tr th:only-of-type {\n",
       "        vertical-align: middle;\n",
       "    }\n",
       "\n",
       "    .dataframe tbody tr th {\n",
       "        vertical-align: top;\n",
       "    }\n",
       "\n",
       "    .dataframe thead th {\n",
       "        text-align: right;\n",
       "    }\n",
       "</style>\n",
       "<table border=\"1\" class=\"dataframe\">\n",
       "  <thead>\n",
       "    <tr style=\"text-align: right;\">\n",
       "      <th></th>\n",
       "      <th>publisher_id</th>\n",
       "      <th>publisher</th>\n",
       "    </tr>\n",
       "  </thead>\n",
       "  <tbody>\n",
       "    <tr>\n",
       "      <th>0</th>\n",
       "      <td>1</td>\n",
       "      <td>Ace</td>\n",
       "    </tr>\n",
       "    <tr>\n",
       "      <th>1</th>\n",
       "      <td>2</td>\n",
       "      <td>Ace Book</td>\n",
       "    </tr>\n",
       "    <tr>\n",
       "      <th>2</th>\n",
       "      <td>3</td>\n",
       "      <td>Ace Books</td>\n",
       "    </tr>\n",
       "    <tr>\n",
       "      <th>3</th>\n",
       "      <td>4</td>\n",
       "      <td>Ace Hardcover</td>\n",
       "    </tr>\n",
       "    <tr>\n",
       "      <th>4</th>\n",
       "      <td>5</td>\n",
       "      <td>Addison Wesley Publishing Company</td>\n",
       "    </tr>\n",
       "  </tbody>\n",
       "</table>\n",
       "</div>"
      ],
      "text/plain": [
       "   publisher_id                          publisher\n",
       "0             1                                Ace\n",
       "1             2                           Ace Book\n",
       "2             3                          Ace Books\n",
       "3             4                      Ace Hardcover\n",
       "4             5  Addison Wesley Publishing Company"
      ]
     },
     "execution_count": 7,
     "metadata": {},
     "output_type": "execute_result"
    }
   ],
   "source": [
    "# выведем строки таблицы publishers\n",
    "publishers = '''\n",
    "SELECT *  FROM publishers\n",
    "LIMIT(5)\n",
    "'''\n",
    "publishers = sql_translation(publishers)\n",
    "publishers"
   ]
  },
  {
   "cell_type": "code",
   "execution_count": 8,
   "id": "31b1de84",
   "metadata": {},
   "outputs": [
    {
     "data": {
      "text/html": [
       "<div>\n",
       "<style scoped>\n",
       "    .dataframe tbody tr th:only-of-type {\n",
       "        vertical-align: middle;\n",
       "    }\n",
       "\n",
       "    .dataframe tbody tr th {\n",
       "        vertical-align: top;\n",
       "    }\n",
       "\n",
       "    .dataframe thead th {\n",
       "        text-align: right;\n",
       "    }\n",
       "</style>\n",
       "<table border=\"1\" class=\"dataframe\">\n",
       "  <thead>\n",
       "    <tr style=\"text-align: right;\">\n",
       "      <th></th>\n",
       "      <th>count</th>\n",
       "    </tr>\n",
       "  </thead>\n",
       "  <tbody>\n",
       "    <tr>\n",
       "      <th>0</th>\n",
       "      <td>340</td>\n",
       "    </tr>\n",
       "  </tbody>\n",
       "</table>\n",
       "</div>"
      ],
      "text/plain": [
       "   count\n",
       "0    340"
      ]
     },
     "execution_count": 8,
     "metadata": {},
     "output_type": "execute_result"
    }
   ],
   "source": [
    "publishers_count = '''\n",
    "--Выведем количество издательств\n",
    "SELECT COUNT(DISTINCT publisher_id) \n",
    "FROM publishers\n",
    "'''\n",
    "publishers_count = sql_translation(publishers_count)\n",
    "publishers_count"
   ]
  },
  {
   "cell_type": "code",
   "execution_count": 9,
   "id": "bd0ca146",
   "metadata": {},
   "outputs": [
    {
     "data": {
      "text/html": [
       "<div>\n",
       "<style scoped>\n",
       "    .dataframe tbody tr th:only-of-type {\n",
       "        vertical-align: middle;\n",
       "    }\n",
       "\n",
       "    .dataframe tbody tr th {\n",
       "        vertical-align: top;\n",
       "    }\n",
       "\n",
       "    .dataframe thead th {\n",
       "        text-align: right;\n",
       "    }\n",
       "</style>\n",
       "<table border=\"1\" class=\"dataframe\">\n",
       "  <thead>\n",
       "    <tr style=\"text-align: right;\">\n",
       "      <th></th>\n",
       "      <th>rating_id</th>\n",
       "      <th>book_id</th>\n",
       "      <th>username</th>\n",
       "      <th>rating</th>\n",
       "    </tr>\n",
       "  </thead>\n",
       "  <tbody>\n",
       "    <tr>\n",
       "      <th>0</th>\n",
       "      <td>1</td>\n",
       "      <td>1</td>\n",
       "      <td>ryanfranco</td>\n",
       "      <td>4</td>\n",
       "    </tr>\n",
       "    <tr>\n",
       "      <th>1</th>\n",
       "      <td>2</td>\n",
       "      <td>1</td>\n",
       "      <td>grantpatricia</td>\n",
       "      <td>2</td>\n",
       "    </tr>\n",
       "    <tr>\n",
       "      <th>2</th>\n",
       "      <td>3</td>\n",
       "      <td>1</td>\n",
       "      <td>brandtandrea</td>\n",
       "      <td>5</td>\n",
       "    </tr>\n",
       "    <tr>\n",
       "      <th>3</th>\n",
       "      <td>4</td>\n",
       "      <td>2</td>\n",
       "      <td>lorichen</td>\n",
       "      <td>3</td>\n",
       "    </tr>\n",
       "    <tr>\n",
       "      <th>4</th>\n",
       "      <td>5</td>\n",
       "      <td>2</td>\n",
       "      <td>mariokeller</td>\n",
       "      <td>2</td>\n",
       "    </tr>\n",
       "  </tbody>\n",
       "</table>\n",
       "</div>"
      ],
      "text/plain": [
       "   rating_id  book_id       username  rating\n",
       "0          1        1     ryanfranco       4\n",
       "1          2        1  grantpatricia       2\n",
       "2          3        1   brandtandrea       5\n",
       "3          4        2       lorichen       3\n",
       "4          5        2    mariokeller       2"
      ]
     },
     "execution_count": 9,
     "metadata": {},
     "output_type": "execute_result"
    }
   ],
   "source": [
    "# выведем строки таблицы ratings\n",
    "ratings = '''\n",
    "SELECT *  FROM ratings\n",
    "LIMIT(5)\n",
    "'''\n",
    "ratings = sql_translation(ratings)\n",
    "ratings"
   ]
  },
  {
   "cell_type": "code",
   "execution_count": 10,
   "id": "70df07bf",
   "metadata": {},
   "outputs": [
    {
     "data": {
      "text/html": [
       "<div>\n",
       "<style scoped>\n",
       "    .dataframe tbody tr th:only-of-type {\n",
       "        vertical-align: middle;\n",
       "    }\n",
       "\n",
       "    .dataframe tbody tr th {\n",
       "        vertical-align: top;\n",
       "    }\n",
       "\n",
       "    .dataframe thead th {\n",
       "        text-align: right;\n",
       "    }\n",
       "</style>\n",
       "<table border=\"1\" class=\"dataframe\">\n",
       "  <thead>\n",
       "    <tr style=\"text-align: right;\">\n",
       "      <th></th>\n",
       "      <th>review_id</th>\n",
       "      <th>book_id</th>\n",
       "      <th>username</th>\n",
       "      <th>text</th>\n",
       "    </tr>\n",
       "  </thead>\n",
       "  <tbody>\n",
       "    <tr>\n",
       "      <th>0</th>\n",
       "      <td>1</td>\n",
       "      <td>1</td>\n",
       "      <td>brandtandrea</td>\n",
       "      <td>Mention society tell send professor analysis. ...</td>\n",
       "    </tr>\n",
       "    <tr>\n",
       "      <th>1</th>\n",
       "      <td>2</td>\n",
       "      <td>1</td>\n",
       "      <td>ryanfranco</td>\n",
       "      <td>Foot glass pretty audience hit themselves. Amo...</td>\n",
       "    </tr>\n",
       "    <tr>\n",
       "      <th>2</th>\n",
       "      <td>3</td>\n",
       "      <td>2</td>\n",
       "      <td>lorichen</td>\n",
       "      <td>Listen treat keep worry. Miss husband tax but ...</td>\n",
       "    </tr>\n",
       "    <tr>\n",
       "      <th>3</th>\n",
       "      <td>4</td>\n",
       "      <td>3</td>\n",
       "      <td>johnsonamanda</td>\n",
       "      <td>Finally month interesting blue could nature cu...</td>\n",
       "    </tr>\n",
       "    <tr>\n",
       "      <th>4</th>\n",
       "      <td>5</td>\n",
       "      <td>3</td>\n",
       "      <td>scotttamara</td>\n",
       "      <td>Nation purpose heavy give wait song will. List...</td>\n",
       "    </tr>\n",
       "  </tbody>\n",
       "</table>\n",
       "</div>"
      ],
      "text/plain": [
       "   review_id  book_id       username  \\\n",
       "0          1        1   brandtandrea   \n",
       "1          2        1     ryanfranco   \n",
       "2          3        2       lorichen   \n",
       "3          4        3  johnsonamanda   \n",
       "4          5        3    scotttamara   \n",
       "\n",
       "                                                text  \n",
       "0  Mention society tell send professor analysis. ...  \n",
       "1  Foot glass pretty audience hit themselves. Amo...  \n",
       "2  Listen treat keep worry. Miss husband tax but ...  \n",
       "3  Finally month interesting blue could nature cu...  \n",
       "4  Nation purpose heavy give wait song will. List...  "
      ]
     },
     "execution_count": 10,
     "metadata": {},
     "output_type": "execute_result"
    }
   ],
   "source": [
    "# выведем строки таблицы reviews\n",
    "reviews = '''\n",
    "SELECT *  FROM reviews\n",
    "LIMIT(5)\n",
    "'''\n",
    "reviews = sql_translation(reviews)\n",
    "reviews"
   ]
  },
  {
   "cell_type": "markdown",
   "id": "bbda18c4",
   "metadata": {},
   "source": [
    "* на данном этапе были выгружены все таблицы и изучены. В библиотеке у нас находится 1000 книг 636 авторов, опубликованных 340 издательствами."
   ]
  },
  {
   "cell_type": "markdown",
   "id": "eeca7504",
   "metadata": {},
   "source": [
    "<a id=\"task_1\"> </a>\n",
    "## Задание 1: определить количество книг, выпущенных после 1 января 2020 года"
   ]
  },
  {
   "cell_type": "code",
   "execution_count": 12,
   "id": "af3306e6",
   "metadata": {},
   "outputs": [
    {
     "data": {
      "text/html": [
       "<div>\n",
       "<style scoped>\n",
       "    .dataframe tbody tr th:only-of-type {\n",
       "        vertical-align: middle;\n",
       "    }\n",
       "\n",
       "    .dataframe tbody tr th {\n",
       "        vertical-align: top;\n",
       "    }\n",
       "\n",
       "    .dataframe thead th {\n",
       "        text-align: right;\n",
       "    }\n",
       "</style>\n",
       "<table border=\"1\" class=\"dataframe\">\n",
       "  <thead>\n",
       "    <tr style=\"text-align: right;\">\n",
       "      <th></th>\n",
       "      <th>book_count</th>\n",
       "    </tr>\n",
       "  </thead>\n",
       "  <tbody>\n",
       "    <tr>\n",
       "      <th>0</th>\n",
       "      <td>819</td>\n",
       "    </tr>\n",
       "  </tbody>\n",
       "</table>\n",
       "</div>"
      ],
      "text/plain": [
       "   book_count\n",
       "0         819"
      ]
     },
     "execution_count": 12,
     "metadata": {},
     "output_type": "execute_result"
    }
   ],
   "source": [
    "book_count = '''\n",
    "SELECT COUNT(book_id) AS book_count\n",
    "FROM books\n",
    "WHERE publication_date >= '2000-01-02'\n",
    "'''\n",
    "sql_translation(book_count)"
   ]
  },
  {
   "cell_type": "markdown",
   "id": "0a51c93a",
   "metadata": {},
   "source": [
    "<a id=\"task_2\"> </a>\n",
    "## Задание 2: количество обзоров и среднюю оценку на каждую книгу"
   ]
  },
  {
   "cell_type": "code",
   "execution_count": 14,
   "id": "3e5feae2",
   "metadata": {},
   "outputs": [
    {
     "data": {
      "text/html": [
       "<div>\n",
       "<style scoped>\n",
       "    .dataframe tbody tr th:only-of-type {\n",
       "        vertical-align: middle;\n",
       "    }\n",
       "\n",
       "    .dataframe tbody tr th {\n",
       "        vertical-align: top;\n",
       "    }\n",
       "\n",
       "    .dataframe thead th {\n",
       "        text-align: right;\n",
       "    }\n",
       "</style>\n",
       "<table border=\"1\" class=\"dataframe\">\n",
       "  <thead>\n",
       "    <tr style=\"text-align: right;\">\n",
       "      <th></th>\n",
       "      <th>title</th>\n",
       "      <th>count_review</th>\n",
       "      <th>avg_rating</th>\n",
       "    </tr>\n",
       "  </thead>\n",
       "  <tbody>\n",
       "    <tr>\n",
       "      <th>0</th>\n",
       "      <td>A Dirty Job (Grim Reaper  #1)</td>\n",
       "      <td>4</td>\n",
       "      <td>5.00</td>\n",
       "    </tr>\n",
       "    <tr>\n",
       "      <th>1</th>\n",
       "      <td>School's Out—Forever (Maximum Ride  #2)</td>\n",
       "      <td>3</td>\n",
       "      <td>5.00</td>\n",
       "    </tr>\n",
       "    <tr>\n",
       "      <th>2</th>\n",
       "      <td>Moneyball: The Art of Winning an Unfair Game</td>\n",
       "      <td>3</td>\n",
       "      <td>5.00</td>\n",
       "    </tr>\n",
       "    <tr>\n",
       "      <th>3</th>\n",
       "      <td>The Big Bad Wolf  (Alex Cross  #9)</td>\n",
       "      <td>2</td>\n",
       "      <td>5.00</td>\n",
       "    </tr>\n",
       "    <tr>\n",
       "      <th>4</th>\n",
       "      <td>Welcome to Temptation (Dempseys  #1)</td>\n",
       "      <td>2</td>\n",
       "      <td>5.00</td>\n",
       "    </tr>\n",
       "    <tr>\n",
       "      <th>...</th>\n",
       "      <td>...</td>\n",
       "      <td>...</td>\n",
       "      <td>...</td>\n",
       "    </tr>\n",
       "    <tr>\n",
       "      <th>995</th>\n",
       "      <td>The World Is Flat: A Brief History of the Twen...</td>\n",
       "      <td>3</td>\n",
       "      <td>2.25</td>\n",
       "    </tr>\n",
       "    <tr>\n",
       "      <th>996</th>\n",
       "      <td>Drowning Ruth</td>\n",
       "      <td>3</td>\n",
       "      <td>2.00</td>\n",
       "    </tr>\n",
       "    <tr>\n",
       "      <th>997</th>\n",
       "      <td>His Excellency: George Washington</td>\n",
       "      <td>2</td>\n",
       "      <td>2.00</td>\n",
       "    </tr>\n",
       "    <tr>\n",
       "      <th>998</th>\n",
       "      <td>Junky</td>\n",
       "      <td>2</td>\n",
       "      <td>2.00</td>\n",
       "    </tr>\n",
       "    <tr>\n",
       "      <th>999</th>\n",
       "      <td>Harvesting the Heart</td>\n",
       "      <td>2</td>\n",
       "      <td>1.50</td>\n",
       "    </tr>\n",
       "  </tbody>\n",
       "</table>\n",
       "<p>1000 rows × 3 columns</p>\n",
       "</div>"
      ],
      "text/plain": [
       "                                                 title  count_review  \\\n",
       "0                        A Dirty Job (Grim Reaper  #1)             4   \n",
       "1              School's Out—Forever (Maximum Ride  #2)             3   \n",
       "2         Moneyball: The Art of Winning an Unfair Game             3   \n",
       "3                   The Big Bad Wolf  (Alex Cross  #9)             2   \n",
       "4                 Welcome to Temptation (Dempseys  #1)             2   \n",
       "..                                                 ...           ...   \n",
       "995  The World Is Flat: A Brief History of the Twen...             3   \n",
       "996                                      Drowning Ruth             3   \n",
       "997                  His Excellency: George Washington             2   \n",
       "998                                              Junky             2   \n",
       "999                               Harvesting the Heart             2   \n",
       "\n",
       "     avg_rating  \n",
       "0          5.00  \n",
       "1          5.00  \n",
       "2          5.00  \n",
       "3          5.00  \n",
       "4          5.00  \n",
       "..          ...  \n",
       "995        2.25  \n",
       "996        2.00  \n",
       "997        2.00  \n",
       "998        2.00  \n",
       "999        1.50  \n",
       "\n",
       "[1000 rows x 3 columns]"
      ]
     },
     "execution_count": 14,
     "metadata": {},
     "output_type": "execute_result"
    }
   ],
   "source": [
    "avg_book = '''\n",
    "SELECT b.title AS title,\n",
    "       COUNT(DISTINCT rw.review_id) AS count_review, \n",
    "       ROUND(AVG(r.rating), 2) AS avg_rating\n",
    "FROM reviews AS rw \n",
    "RIGHT JOIN books AS b ON rw.book_id=b.book_id\n",
    "LEFT JOIN ratings AS r ON b.book_id = r.book_id\n",
    "GROUP BY b.book_id\n",
    "ORDER BY avg_rating DESC, count_review DESC\n",
    "'''\n",
    "sql_translation(avg_book)"
   ]
  },
  {
   "cell_type": "markdown",
   "id": "75987586",
   "metadata": {},
   "source": [
    "* Самыми популярными книгами являются A Dirty Job (Grim Reaper #1) автора Christopher Moore, School's Out—Forever (Maximum Ride #2) - James Patterson, Moneyball: The Art of Winning an Unfair Game\t- Michael Lewis. Книги, имеющие высокий рейтинг, являются фантастикой."
   ]
  },
  {
   "cell_type": "code",
   "execution_count": 15,
   "id": "2f269b89",
   "metadata": {},
   "outputs": [
    {
     "data": {
      "text/plain": [
       "2793"
      ]
     },
     "execution_count": 15,
     "metadata": {},
     "output_type": "execute_result"
    }
   ],
   "source": [
    "# количество уникальных отзывов\n",
    "sql_translation(avg_book)['count_review'].sum()"
   ]
  },
  {
   "cell_type": "code",
   "execution_count": 16,
   "id": "39f91a7b",
   "metadata": {},
   "outputs": [
    {
     "data": {
      "text/html": [
       "<div>\n",
       "<style scoped>\n",
       "    .dataframe tbody tr th:only-of-type {\n",
       "        vertical-align: middle;\n",
       "    }\n",
       "\n",
       "    .dataframe tbody tr th {\n",
       "        vertical-align: top;\n",
       "    }\n",
       "\n",
       "    .dataframe thead th {\n",
       "        text-align: right;\n",
       "    }\n",
       "</style>\n",
       "<table border=\"1\" class=\"dataframe\">\n",
       "  <thead>\n",
       "    <tr style=\"text-align: right;\">\n",
       "      <th></th>\n",
       "      <th>count</th>\n",
       "    </tr>\n",
       "  </thead>\n",
       "  <tbody>\n",
       "    <tr>\n",
       "      <th>0</th>\n",
       "      <td>2793</td>\n",
       "    </tr>\n",
       "  </tbody>\n",
       "</table>\n",
       "</div>"
      ],
      "text/plain": [
       "   count\n",
       "0   2793"
      ]
     },
     "execution_count": 16,
     "metadata": {},
     "output_type": "execute_result"
    }
   ],
   "source": [
    "# посмотрим на количество уникальных отзывов\n",
    "count_review = '''\n",
    "SELECT COUNT(DISTINCT(review_id))\n",
    "FROM reviews'''\n",
    "sql_translation(count_review)"
   ]
  },
  {
   "cell_type": "markdown",
   "id": "05ecef50",
   "metadata": {},
   "source": [
    "<a id=\"task_3\"> </a>\n",
    "## Задание 3: издательство, которое выпустило наибольшее число книг"
   ]
  },
  {
   "cell_type": "code",
   "execution_count": 17,
   "id": "3eabd4d1",
   "metadata": {},
   "outputs": [
    {
     "data": {
      "text/html": [
       "<div>\n",
       "<style scoped>\n",
       "    .dataframe tbody tr th:only-of-type {\n",
       "        vertical-align: middle;\n",
       "    }\n",
       "\n",
       "    .dataframe tbody tr th {\n",
       "        vertical-align: top;\n",
       "    }\n",
       "\n",
       "    .dataframe thead th {\n",
       "        text-align: right;\n",
       "    }\n",
       "</style>\n",
       "<table border=\"1\" class=\"dataframe\">\n",
       "  <thead>\n",
       "    <tr style=\"text-align: right;\">\n",
       "      <th></th>\n",
       "      <th>publisher</th>\n",
       "      <th>count_book</th>\n",
       "    </tr>\n",
       "  </thead>\n",
       "  <tbody>\n",
       "    <tr>\n",
       "      <th>0</th>\n",
       "      <td>Penguin Books</td>\n",
       "      <td>42</td>\n",
       "    </tr>\n",
       "  </tbody>\n",
       "</table>\n",
       "</div>"
      ],
      "text/plain": [
       "       publisher  count_book\n",
       "0  Penguin Books          42"
      ]
     },
     "execution_count": 17,
     "metadata": {},
     "output_type": "execute_result"
    }
   ],
   "source": [
    "top_publisher = '''\n",
    "SELECT p.publisher AS publisher,\n",
    "    COUNT(b.book_id) AS count_book\n",
    "FROM publishers AS p\n",
    "JOIN books AS b ON b.publisher_id=p.publisher_id\n",
    "WHERE b.num_pages > 50\n",
    "GROUP BY p.publisher\n",
    "ORDER BY count_book DESC\n",
    "LIMIT(1)\n",
    "'''\n",
    "sql_translation(top_publisher)"
   ]
  },
  {
   "cell_type": "markdown",
   "id": "08a53a2a",
   "metadata": {},
   "source": [
    "* Издательство Penguin Books больше всех выпустило книг, их количество равно 42"
   ]
  },
  {
   "cell_type": "markdown",
   "id": "b9762f3b",
   "metadata": {},
   "source": [
    "<a id=\"task_4\"> </a>\n",
    "## Задание 4: автор с самой высокой средней оценкой книг"
   ]
  },
  {
   "cell_type": "code",
   "execution_count": 20,
   "id": "c9900a37",
   "metadata": {},
   "outputs": [
    {
     "data": {
      "text/html": [
       "<div>\n",
       "<style scoped>\n",
       "    .dataframe tbody tr th:only-of-type {\n",
       "        vertical-align: middle;\n",
       "    }\n",
       "\n",
       "    .dataframe tbody tr th {\n",
       "        vertical-align: top;\n",
       "    }\n",
       "\n",
       "    .dataframe thead th {\n",
       "        text-align: right;\n",
       "    }\n",
       "</style>\n",
       "<table border=\"1\" class=\"dataframe\">\n",
       "  <thead>\n",
       "    <tr style=\"text-align: right;\">\n",
       "      <th></th>\n",
       "      <th>author</th>\n",
       "      <th>avg_rating</th>\n",
       "    </tr>\n",
       "  </thead>\n",
       "  <tbody>\n",
       "    <tr>\n",
       "      <th>0</th>\n",
       "      <td>J.K. Rowling/Mary GrandPré</td>\n",
       "      <td>4.283844</td>\n",
       "    </tr>\n",
       "    <tr>\n",
       "      <th>1</th>\n",
       "      <td>Markus Zusak/Cao Xuân Việt Khương</td>\n",
       "      <td>4.264151</td>\n",
       "    </tr>\n",
       "    <tr>\n",
       "      <th>2</th>\n",
       "      <td>J.R.R. Tolkien</td>\n",
       "      <td>4.258446</td>\n",
       "    </tr>\n",
       "    <tr>\n",
       "      <th>3</th>\n",
       "      <td>Louisa May Alcott</td>\n",
       "      <td>4.192308</td>\n",
       "    </tr>\n",
       "    <tr>\n",
       "      <th>4</th>\n",
       "      <td>Rick Riordan</td>\n",
       "      <td>4.080645</td>\n",
       "    </tr>\n",
       "  </tbody>\n",
       "</table>\n",
       "</div>"
      ],
      "text/plain": [
       "                              author  avg_rating\n",
       "0         J.K. Rowling/Mary GrandPré    4.283844\n",
       "1  Markus Zusak/Cao Xuân Việt Khương    4.264151\n",
       "2                     J.R.R. Tolkien    4.258446\n",
       "3                  Louisa May Alcott    4.192308\n",
       "4                       Rick Riordan    4.080645"
      ]
     },
     "execution_count": 20,
     "metadata": {},
     "output_type": "execute_result"
    }
   ],
   "source": [
    "var_2_top_authur = ''' \n",
    "SELECT \n",
    "    t.author,\n",
    "    AVG(t.avg_rating) AS avg_rating\n",
    "FROM\n",
    "    (SELECT a.author AS author,\n",
    "            AVG(r.rating) AS avg_rating\n",
    "    FROM books AS b\n",
    "    LEFT JOIN authors AS a ON b.author_id = a.author_id\n",
    "    LEFT JOIN ratings AS r ON b.book_id = r.book_id\n",
    "    GROUP BY b.book_id,\n",
    "             a.author_id\n",
    "    HAVING COUNT(r.rating_id) >50 \n",
    "    ) AS t\n",
    "GROUP BY t.author\n",
    "ORDER BY avg_rating DESC\n",
    "LIMIT 5 '''\n",
    "\n",
    "sql_translation(var_2_top_authur)"
   ]
  },
  {
   "cell_type": "markdown",
   "id": "6ed09bef",
   "metadata": {},
   "source": [
    "* Самой популярной писательницей является Джоан Роулинг, которая написала всем известную серию книг \"Гарри Поттер\". Также в топ-5 входит Джон Рональд Руэл Толкин, который известен своими книгами «Хоббит, или Туда и обратно», «Властелин колец» и «Сильмариллион». На втором месте находится Маркус Зузак."
   ]
  },
  {
   "cell_type": "markdown",
   "id": "842c99fc",
   "metadata": {},
   "source": [
    "<a id=\"task_5\"> </a>\n",
    "## Задание 5: среднее количество обзоров от пользователей, которые поставили больше 50 оценок"
   ]
  },
  {
   "cell_type": "code",
   "execution_count": 21,
   "id": "92ae7c14",
   "metadata": {},
   "outputs": [
    {
     "data": {
      "text/html": [
       "<div>\n",
       "<style scoped>\n",
       "    .dataframe tbody tr th:only-of-type {\n",
       "        vertical-align: middle;\n",
       "    }\n",
       "\n",
       "    .dataframe tbody tr th {\n",
       "        vertical-align: top;\n",
       "    }\n",
       "\n",
       "    .dataframe thead th {\n",
       "        text-align: right;\n",
       "    }\n",
       "</style>\n",
       "<table border=\"1\" class=\"dataframe\">\n",
       "  <thead>\n",
       "    <tr style=\"text-align: right;\">\n",
       "      <th></th>\n",
       "      <th>round</th>\n",
       "    </tr>\n",
       "  </thead>\n",
       "  <tbody>\n",
       "    <tr>\n",
       "      <th>0</th>\n",
       "      <td>24.33</td>\n",
       "    </tr>\n",
       "  </tbody>\n",
       "</table>\n",
       "</div>"
      ],
      "text/plain": [
       "   round\n",
       "0  24.33"
      ]
     },
     "execution_count": 21,
     "metadata": {},
     "output_type": "execute_result"
    }
   ],
   "source": [
    "avg_review = '''\n",
    "SELECT ROUND(AVG(cnt_review),2)\n",
    "FROM (SELECT username,\n",
    "        COUNT(review_id) AS cnt_review\n",
    "        FROM reviews AS r\n",
    "        WHERE username IN (SELECT username\n",
    "                            FROM ratings\n",
    "                            GROUP BY username\n",
    "                            HAVING COUNT(rating_id) > 50)\n",
    "        GROUP BY username) AS cnt_review\n",
    "'''\n",
    "sql_translation(avg_review)"
   ]
  },
  {
   "cell_type": "markdown",
   "id": "250e475a",
   "metadata": {},
   "source": [
    "<a id=\"conclusion\"></a>\n",
    " ## Выводы"
   ]
  },
  {
   "cell_type": "markdown",
   "id": "6dbe6ce2",
   "metadata": {},
   "source": [
    "При выборе библиотеки, которая будет находится на сервисе, стоит обратить внимание на предпочтение пользоваталей. Самыми популярными жанрами являются фантастика, фэнтези и детективы. Самые популярные авторы это Джоан Роулинг, Джон Рональд Руэл Толкин, Маркус Зузак. В среднем пользователи, которые поставили больше 50 оценок, оставляют 24 обзора на книги."
   ]
  }
 ],
 "metadata": {
  "ExecuteTimeLog": [
   {
    "duration": 12,
    "start_time": "2023-03-22T14:09:10.857Z"
   },
   {
    "duration": 6078,
    "start_time": "2023-03-22T14:09:18.289Z"
   },
   {
    "duration": 4,
    "start_time": "2023-03-22T14:09:24.370Z"
   },
   {
    "duration": 339,
    "start_time": "2023-03-22T14:09:24.375Z"
   },
   {
    "duration": 91,
    "start_time": "2023-03-22T14:09:24.716Z"
   },
   {
    "duration": 87,
    "start_time": "2023-03-22T14:09:24.810Z"
   },
   {
    "duration": 108,
    "start_time": "2023-03-22T14:09:24.898Z"
   },
   {
    "duration": 93,
    "start_time": "2023-03-22T14:09:25.008Z"
   },
   {
    "duration": 161,
    "start_time": "2023-03-22T14:09:25.103Z"
   },
   {
    "duration": 73,
    "start_time": "2023-03-22T14:09:25.266Z"
   },
   {
    "duration": 87,
    "start_time": "2023-03-22T14:09:25.341Z"
   },
   {
    "duration": 93,
    "start_time": "2023-03-22T14:09:25.430Z"
   },
   {
    "duration": 105,
    "start_time": "2023-03-22T14:09:37.647Z"
   },
   {
    "duration": 78,
    "start_time": "2023-03-22T14:10:53.146Z"
   },
   {
    "duration": 7891,
    "start_time": "2023-03-22T14:12:17.329Z"
   },
   {
    "duration": 3,
    "start_time": "2023-03-22T14:12:25.222Z"
   },
   {
    "duration": 344,
    "start_time": "2023-03-22T14:12:25.227Z"
   },
   {
    "duration": 88,
    "start_time": "2023-03-22T14:12:25.574Z"
   },
   {
    "duration": 93,
    "start_time": "2023-03-22T14:12:25.665Z"
   },
   {
    "duration": 105,
    "start_time": "2023-03-22T14:12:25.760Z"
   },
   {
    "duration": 116,
    "start_time": "2023-03-22T14:12:25.872Z"
   },
   {
    "duration": 187,
    "start_time": "2023-03-22T14:12:25.990Z"
   },
   {
    "duration": 76,
    "start_time": "2023-03-22T14:12:26.180Z"
   },
   {
    "duration": 93,
    "start_time": "2023-03-22T14:12:26.258Z"
   },
   {
    "duration": 79,
    "start_time": "2023-03-22T14:12:26.353Z"
   },
   {
    "duration": 80,
    "start_time": "2023-03-22T14:12:26.434Z"
   },
   {
    "duration": 88,
    "start_time": "2023-03-22T14:12:26.516Z"
   },
   {
    "duration": 22880,
    "start_time": "2023-03-23T09:52:21.106Z"
   },
   {
    "duration": 14,
    "start_time": "2023-03-23T09:52:43.988Z"
   },
   {
    "duration": 506,
    "start_time": "2023-03-23T09:52:44.004Z"
   },
   {
    "duration": 128,
    "start_time": "2023-03-23T09:52:44.512Z"
   },
   {
    "duration": 130,
    "start_time": "2023-03-23T09:52:44.644Z"
   },
   {
    "duration": 130,
    "start_time": "2023-03-23T09:52:44.776Z"
   },
   {
    "duration": 121,
    "start_time": "2023-03-23T09:52:44.908Z"
   },
   {
    "duration": 113,
    "start_time": "2023-03-23T09:52:45.032Z"
   },
   {
    "duration": 161,
    "start_time": "2023-03-23T09:52:45.147Z"
   },
   {
    "duration": 129,
    "start_time": "2023-03-23T09:52:45.311Z"
   },
   {
    "duration": 266,
    "start_time": "2023-03-23T09:52:45.442Z"
   },
   {
    "duration": 117,
    "start_time": "2023-03-23T09:52:45.715Z"
   },
   {
    "duration": 189,
    "start_time": "2023-03-23T09:52:45.835Z"
   },
   {
    "duration": 155,
    "start_time": "2023-03-23T09:52:46.027Z"
   },
   {
    "duration": 112,
    "start_time": "2023-03-23T09:52:46.186Z"
   },
   {
    "duration": 120,
    "start_time": "2023-03-23T09:52:46.300Z"
   },
   {
    "duration": 103,
    "start_time": "2023-03-23T09:52:46.432Z"
   },
   {
    "duration": 116,
    "start_time": "2023-03-23T09:52:46.537Z"
   },
   {
    "duration": 388,
    "start_time": "2023-03-23T09:52:46.656Z"
   },
   {
    "duration": 227,
    "start_time": "2023-03-23T09:53:03.287Z"
   },
   {
    "duration": 108,
    "start_time": "2023-03-23T09:53:50.286Z"
   },
   {
    "duration": 234,
    "start_time": "2023-03-23T09:53:59.298Z"
   },
   {
    "duration": 215,
    "start_time": "2023-03-23T09:55:45.933Z"
   },
   {
    "duration": 306,
    "start_time": "2023-03-23T09:56:05.524Z"
   },
   {
    "duration": 203,
    "start_time": "2023-03-23T09:57:25.283Z"
   },
   {
    "duration": 214,
    "start_time": "2023-03-23T09:57:49.239Z"
   },
   {
    "duration": 129,
    "start_time": "2023-03-23T09:57:52.680Z"
   },
   {
    "duration": 245,
    "start_time": "2023-03-23T09:58:31.160Z"
   },
   {
    "duration": 293,
    "start_time": "2023-03-23T09:58:39.425Z"
   },
   {
    "duration": 235,
    "start_time": "2023-03-23T09:58:51.659Z"
   },
   {
    "duration": 99,
    "start_time": "2023-03-23T09:59:01.653Z"
   },
   {
    "duration": 92,
    "start_time": "2023-03-23T10:01:37.646Z"
   },
   {
    "duration": 117,
    "start_time": "2023-03-23T10:03:48.530Z"
   },
   {
    "duration": 213,
    "start_time": "2023-03-23T10:04:06.230Z"
   },
   {
    "duration": 248,
    "start_time": "2023-03-23T10:04:12.589Z"
   },
   {
    "duration": 217,
    "start_time": "2023-03-23T10:04:22.503Z"
   },
   {
    "duration": 119,
    "start_time": "2023-03-23T10:04:41.079Z"
   },
   {
    "duration": 124,
    "start_time": "2023-03-23T10:07:41.895Z"
   },
   {
    "duration": 128,
    "start_time": "2023-03-23T10:07:48.223Z"
   },
   {
    "duration": 138,
    "start_time": "2023-03-23T10:11:31.060Z"
   },
   {
    "duration": 102,
    "start_time": "2023-03-23T10:11:58.946Z"
   }
  ],
  "kernelspec": {
   "display_name": "Python 3 (ipykernel)",
   "language": "python",
   "name": "python3"
  },
  "language_info": {
   "codemirror_mode": {
    "name": "ipython",
    "version": 3
   },
   "file_extension": ".py",
   "mimetype": "text/x-python",
   "name": "python",
   "nbconvert_exporter": "python",
   "pygments_lexer": "ipython3",
   "version": "3.9.12"
  },
  "toc": {
   "base_numbering": 1,
   "nav_menu": {},
   "number_sections": true,
   "sideBar": true,
   "skip_h1_title": true,
   "title_cell": "Table of Contents",
   "title_sidebar": "Contents",
   "toc_cell": false,
   "toc_position": {},
   "toc_section_display": true,
   "toc_window_display": false
  }
 },
 "nbformat": 4,
 "nbformat_minor": 5
}
